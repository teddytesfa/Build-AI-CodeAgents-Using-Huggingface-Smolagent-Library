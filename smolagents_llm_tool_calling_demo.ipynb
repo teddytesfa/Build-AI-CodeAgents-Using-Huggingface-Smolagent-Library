{
  "nbformat": 4,
  "nbformat_minor": 0,
  "metadata": {
    "colab": {
      "provenance": [],
      "authorship_tag": "ABX9TyOf0W0rGEniObwResHw6EkH",
      "include_colab_link": true
    },
    "kernelspec": {
      "name": "python3",
      "display_name": "Python 3"
    },
    "language_info": {
      "name": "python"
    }
  },
  "cells": [
    {
      "cell_type": "markdown",
      "metadata": {
        "id": "view-in-github",
        "colab_type": "text"
      },
      "source": [
        "<a href=\"https://colab.research.google.com/github/teddytesfa/Build-AI-CodeAgents-Using-Huggingface-Smolagent-Library/blob/main/smolagents_llm_tool_calling_demo.ipynb\" target=\"_parent\"><img src=\"https://colab.research.google.com/assets/colab-badge.svg\" alt=\"Open In Colab\"/></a>"
      ]
    },
    {
      "cell_type": "markdown",
      "source": [
        "# Smolagents Tool Calling Demonstration\n",
        "\n",
        "This notebook showcases calling **external APIs** from HuggingFace smolagents using both the `@tool` decorator and custom subclassing. The example uses the OpenWeatherMap API, but is easily adaptable to other APIs.\n",
        "\n",
        "Author: Teddy Tesfa\n",
        "\n",
        "---\n",
        "\n",
        "## 1. Install Requirements\n",
        "\n",
        "You need the HuggingFace smolagents library and requests.\n"
      ],
      "metadata": {
        "id": "101fxbLPevFG"
      }
    },
    {
      "cell_type": "code",
      "execution_count": null,
      "metadata": {
        "id": "-uYakEt3d1KM"
      },
      "outputs": [],
      "source": [
        "!pip install huggingface-smolagents requests"
      ]
    },
    {
      "cell_type": "markdown",
      "source": [
        "## 2. Using the `@tool` Decorator\n",
        "\n",
        "Define a tool via the decorator for easy integration by LLM agents.\n"
      ],
      "metadata": {
        "id": "YldH4fpce7y5"
      }
    },
    {
      "cell_type": "code",
      "source": [
        "import requests\n",
        "from smolagents import tool\n",
        "\n",
        "@tool\n",
        "def get_weather(city: str) -> str:\n",
        "    \"\"\"\n",
        "    Retrieves the current weather for a city using OpenWeatherMap.\n",
        "    Args:\n",
        "        city (str): Name of the city.\n",
        "    Returns:\n",
        "        str: Weather and temperature summary.\n",
        "    \"\"\"\n",
        "    api_key = \"<YOUR_API_KEY>\"  # Replace with your OpenWeatherMap API key\n",
        "    url = f\"http://api.openweathermap.org/data/2.5/weather?q={city}&appid={api_key}\"\n",
        "    resp = requests.get(url)\n",
        "    data = resp.json()\n",
        "\n",
        "    if resp.status_code != 200 or \"weather\" not in data:\n",
        "        return f\"Failed to fetch weather data. Response: {data}\"\n",
        "    return f\"The weather in {city} is {data['weather'][0]['description']} with a temperature of {data['main']['temp']}°K.\"\n"
      ],
      "metadata": {
        "id": "i7Sph12xe-o6"
      },
      "execution_count": null,
      "outputs": []
    },
    {
      "cell_type": "markdown",
      "source": [
        "## 3. Using a Custom Tool Subclass\n",
        "\n",
        "Subclass the `Tool` class for richer logic, context, or configuration.\n"
      ],
      "metadata": {
        "id": "LxxQ_uWKfSCQ"
      }
    },
    {
      "cell_type": "code",
      "source": [
        "from smolagents import Tool\n",
        "\n",
        "class CustomWeatherTool(Tool):\n",
        "    name = \"get_custom_weather\"\n",
        "    description = \"Retrieves current weather for a city using OpenWeatherMap API.\"\n",
        "    inputs = {\"city\": {\"type\": \"str\", \"description\": \"The city to look up.\"}}\n",
        "    output_type = \"str\"\n",
        "\n",
        "    def forward(self, city: str) -> str:\n",
        "        api_key = \"<YOUR_API_KEY>\" # Replace with your OpenWeatherMap API key\n",
        "        url = f\"http://api.openweathermap.org/data/2.5/weather?q={city}&appid={api_key}\"\n",
        "        resp = requests.get(url)\n",
        "        data = resp.json()\n",
        "        if resp.status_code != 200 or \"weather\" not in data:\n",
        "            return f\"Failed to fetch weather data. Response: {data}\"\n",
        "        return f\"The weather in {city} is {data['weather'][0]['description']} with a temperature of {data['main']['temp']}°K.\"\n"
      ],
      "metadata": {
        "id": "Pw5vd0YdfUcW"
      },
      "execution_count": null,
      "outputs": []
    },
    {
      "cell_type": "markdown",
      "source": [
        "## 4. Run the Agent with Either Tool\n",
        "\n",
        "Instantiate a `CodeAgent`, giving it your tool(s) and a default LLM model. Then call it:\n"
      ],
      "metadata": {
        "id": "k7oljZRUfbax"
      }
    },
    {
      "cell_type": "code",
      "source": [
        "from smolagents import CodeAgent, InferenceClientModel\n",
        "\n",
        "# Init model and agent (smolagents supports HF endpoints and local deployments)\n",
        "model = InferenceClientModel()  # You can specify model or endpoint as needed\n",
        "\n",
        "# Example using the decorator tool\n",
        "agent = CodeAgent(tools=[get_weather], model=model)\n",
        "result = agent.run(\"What's the weather in London?\")\n",
        "print(\"Decorator tool:\", result)\n",
        "\n",
        "# Example using the custom class tool\n",
        "weather_tool = CustomWeatherTool()\n",
        "agent2 = CodeAgent(tools=[weather_tool], model=model)\n",
        "result2 = agent2.run(\"Give me the weather in Addis Ababa\")\n",
        "print(\"Tool subclass:\", result2)\n"
      ],
      "metadata": {
        "id": "UO-lSd8XfdHh"
      },
      "execution_count": null,
      "outputs": []
    },
    {
      "cell_type": "markdown",
      "source": [
        "## 5. Notes\n",
        "\n",
        "- Replace `<YOUR_API_KEY>` with your OpenWeatherMap key.\n",
        "- Both approaches are compatible with other APIs.\n",
        "- Type hints and docstrings help LLMs understand tool capabilities.\n",
        "- The agent will automatically use the correct tool if the prompt matches.\n"
      ],
      "metadata": {
        "id": "0CZqc_nTfva7"
      }
    }
  ]
}